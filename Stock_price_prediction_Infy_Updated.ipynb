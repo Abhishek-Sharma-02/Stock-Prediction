{
  "nbformat": 4,
  "nbformat_minor": 0,
  "metadata": {
    "kernelspec": {
      "display_name": "Python 3",
      "language": "python",
      "name": "python3"
    },
    "language_info": {
      "codemirror_mode": {
        "name": "ipython",
        "version": 3
      },
      "file_extension": ".py",
      "mimetype": "text/x-python",
      "name": "python",
      "nbconvert_exporter": "python",
      "pygments_lexer": "ipython3",
      "version": "3.6.12"
    },
    "colab": {
      "name": "Stock price prediction - Infy Updated.ipynb",
      "provenance": [],
      "toc_visible": true
    }
  },
  "cells": [
    {
      "cell_type": "code",
      "metadata": {
        "id": "x25AySxMP2Eb"
      },
      "source": [
        "# Import required package\n",
        "\n",
        "import pandas as pd\n",
        "import numpy as np\n",
        "\n",
        "# To plot within notebok\n",
        "\n",
        "import matplotlib.pyplot as plt\n",
        "%matplotlib inline\n",
        "\n",
        "# Setting figure size\n",
        "\n",
        "from matplotlib.pylab import rcParams\n",
        "rcParams['figure.figsize']=20,10\n",
        "\n",
        "# For normalising data\n",
        "\n",
        "from sklearn.preprocessing import MinMaxScaler\n",
        "scaler = MinMaxScaler(feature_range=(0,1))"
      ],
      "execution_count": null,
      "outputs": []
    },
    {
      "cell_type": "code",
      "metadata": {
        "id": "-GYoJR8pP2El"
      },
      "source": [
        "# Read the file\n",
        "\n",
        "df=pd.read_csv(\"/content/INFY.csv\")"
      ],
      "execution_count": null,
      "outputs": []
    },
    {
      "cell_type": "code",
      "metadata": {
        "colab": {
          "base_uri": "https://localhost:8080/",
          "height": 204
        },
        "id": "dUbc5DfuP2Em",
        "outputId": "25d1e13b-2c27-4bc7-8b77-8e6844cb2283"
      },
      "source": [
        "# Print the head()\n",
        "df.head()"
      ],
      "execution_count": null,
      "outputs": [
        {
          "output_type": "execute_result",
          "data": {
            "text/html": [
              "<div>\n",
              "<style scoped>\n",
              "    .dataframe tbody tr th:only-of-type {\n",
              "        vertical-align: middle;\n",
              "    }\n",
              "\n",
              "    .dataframe tbody tr th {\n",
              "        vertical-align: top;\n",
              "    }\n",
              "\n",
              "    .dataframe thead th {\n",
              "        text-align: right;\n",
              "    }\n",
              "</style>\n",
              "<table border=\"1\" class=\"dataframe\">\n",
              "  <thead>\n",
              "    <tr style=\"text-align: right;\">\n",
              "      <th></th>\n",
              "      <th>Date</th>\n",
              "      <th>Open</th>\n",
              "      <th>High</th>\n",
              "      <th>Low</th>\n",
              "      <th>Close</th>\n",
              "      <th>Adj Close</th>\n",
              "      <th>Volume</th>\n",
              "    </tr>\n",
              "  </thead>\n",
              "  <tbody>\n",
              "    <tr>\n",
              "      <th>0</th>\n",
              "      <td>2000-01-03</td>\n",
              "      <td>122.070000</td>\n",
              "      <td>122.071999</td>\n",
              "      <td>122.070000</td>\n",
              "      <td>122.071999</td>\n",
              "      <td>3.991093</td>\n",
              "      <td>657536.0</td>\n",
              "    </tr>\n",
              "    <tr>\n",
              "      <th>1</th>\n",
              "      <td>2000-01-04</td>\n",
              "      <td>131.250000</td>\n",
              "      <td>131.837997</td>\n",
              "      <td>126.976997</td>\n",
              "      <td>131.686996</td>\n",
              "      <td>4.305449</td>\n",
              "      <td>7191808.0</td>\n",
              "    </tr>\n",
              "    <tr>\n",
              "      <th>2</th>\n",
              "      <td>2000-01-05</td>\n",
              "      <td>122.664001</td>\n",
              "      <td>126.953003</td>\n",
              "      <td>121.152000</td>\n",
              "      <td>121.152000</td>\n",
              "      <td>3.961014</td>\n",
              "      <td>21069440.0</td>\n",
              "    </tr>\n",
              "    <tr>\n",
              "      <th>3</th>\n",
              "      <td>2000-01-06</td>\n",
              "      <td>119.193001</td>\n",
              "      <td>119.530998</td>\n",
              "      <td>111.459999</td>\n",
              "      <td>111.459999</td>\n",
              "      <td>3.644139</td>\n",
              "      <td>10495616.0</td>\n",
              "    </tr>\n",
              "    <tr>\n",
              "      <th>4</th>\n",
              "      <td>2000-01-07</td>\n",
              "      <td>102.542999</td>\n",
              "      <td>102.542999</td>\n",
              "      <td>102.542999</td>\n",
              "      <td>102.542999</td>\n",
              "      <td>3.352601</td>\n",
              "      <td>971392.0</td>\n",
              "    </tr>\n",
              "  </tbody>\n",
              "</table>\n",
              "</div>"
            ],
            "text/plain": [
              "         Date        Open        High  ...       Close  Adj Close      Volume\n",
              "0  2000-01-03  122.070000  122.071999  ...  122.071999   3.991093    657536.0\n",
              "1  2000-01-04  131.250000  131.837997  ...  131.686996   4.305449   7191808.0\n",
              "2  2000-01-05  122.664001  126.953003  ...  121.152000   3.961014  21069440.0\n",
              "3  2000-01-06  119.193001  119.530998  ...  111.459999   3.644139  10495616.0\n",
              "4  2000-01-07  102.542999  102.542999  ...  102.542999   3.352601    971392.0\n",
              "\n",
              "[5 rows x 7 columns]"
            ]
          },
          "metadata": {
            "tags": []
          },
          "execution_count": 3
        }
      ]
    },
    {
      "cell_type": "code",
      "metadata": {
        "colab": {
          "base_uri": "https://localhost:8080/",
          "height": 204
        },
        "id": "EawEx69WP2Eo",
        "outputId": "24ade8d1-5014-4d5b-a061-e9541bd119a2"
      },
      "source": [
        "df.tail()"
      ],
      "execution_count": null,
      "outputs": [
        {
          "output_type": "execute_result",
          "data": {
            "text/html": [
              "<div>\n",
              "<style scoped>\n",
              "    .dataframe tbody tr th:only-of-type {\n",
              "        vertical-align: middle;\n",
              "    }\n",
              "\n",
              "    .dataframe tbody tr th {\n",
              "        vertical-align: top;\n",
              "    }\n",
              "\n",
              "    .dataframe thead th {\n",
              "        text-align: right;\n",
              "    }\n",
              "</style>\n",
              "<table border=\"1\" class=\"dataframe\">\n",
              "  <thead>\n",
              "    <tr style=\"text-align: right;\">\n",
              "      <th></th>\n",
              "      <th>Date</th>\n",
              "      <th>Open</th>\n",
              "      <th>High</th>\n",
              "      <th>Low</th>\n",
              "      <th>Close</th>\n",
              "      <th>Adj Close</th>\n",
              "      <th>Volume</th>\n",
              "    </tr>\n",
              "  </thead>\n",
              "  <tbody>\n",
              "    <tr>\n",
              "      <th>5262</th>\n",
              "      <td>2021-01-06</td>\n",
              "      <td>1300.000000</td>\n",
              "      <td>1302.000000</td>\n",
              "      <td>1268.050049</td>\n",
              "      <td>1282.099976</td>\n",
              "      <td>1282.099976</td>\n",
              "      <td>7161715.0</td>\n",
              "    </tr>\n",
              "    <tr>\n",
              "      <th>5263</th>\n",
              "      <td>2021-01-07</td>\n",
              "      <td>1296.000000</td>\n",
              "      <td>1297.650024</td>\n",
              "      <td>1255.500000</td>\n",
              "      <td>1262.150024</td>\n",
              "      <td>1262.150024</td>\n",
              "      <td>10954918.0</td>\n",
              "    </tr>\n",
              "    <tr>\n",
              "      <th>5264</th>\n",
              "      <td>2021-01-08</td>\n",
              "      <td>1278.250000</td>\n",
              "      <td>1316.800049</td>\n",
              "      <td>1278.250000</td>\n",
              "      <td>1312.099976</td>\n",
              "      <td>1312.099976</td>\n",
              "      <td>13186251.0</td>\n",
              "    </tr>\n",
              "    <tr>\n",
              "      <th>5265</th>\n",
              "      <td>2021-01-11</td>\n",
              "      <td>1342.099976</td>\n",
              "      <td>1383.349976</td>\n",
              "      <td>1340.000000</td>\n",
              "      <td>1376.199951</td>\n",
              "      <td>1376.199951</td>\n",
              "      <td>20528626.0</td>\n",
              "    </tr>\n",
              "    <tr>\n",
              "      <th>5266</th>\n",
              "      <td>2021-01-12</td>\n",
              "      <td>1378.000000</td>\n",
              "      <td>1378.000000</td>\n",
              "      <td>1360.000000</td>\n",
              "      <td>1371.750000</td>\n",
              "      <td>1371.750000</td>\n",
              "      <td>8309868.0</td>\n",
              "    </tr>\n",
              "  </tbody>\n",
              "</table>\n",
              "</div>"
            ],
            "text/plain": [
              "            Date         Open  ...    Adj Close      Volume\n",
              "5262  2021-01-06  1300.000000  ...  1282.099976   7161715.0\n",
              "5263  2021-01-07  1296.000000  ...  1262.150024  10954918.0\n",
              "5264  2021-01-08  1278.250000  ...  1312.099976  13186251.0\n",
              "5265  2021-01-11  1342.099976  ...  1376.199951  20528626.0\n",
              "5266  2021-01-12  1378.000000  ...  1371.750000   8309868.0\n",
              "\n",
              "[5 rows x 7 columns]"
            ]
          },
          "metadata": {
            "tags": []
          },
          "execution_count": 4
        }
      ]
    },
    {
      "cell_type": "code",
      "metadata": {
        "colab": {
          "base_uri": "https://localhost:8080/",
          "height": 297
        },
        "id": "P1ixauuJP2Eo",
        "outputId": "1a67db43-95cc-4eba-ac19-72604d3c421d"
      },
      "source": [
        "df.describe()"
      ],
      "execution_count": null,
      "outputs": [
        {
          "output_type": "execute_result",
          "data": {
            "text/html": [
              "<div>\n",
              "<style scoped>\n",
              "    .dataframe tbody tr th:only-of-type {\n",
              "        vertical-align: middle;\n",
              "    }\n",
              "\n",
              "    .dataframe tbody tr th {\n",
              "        vertical-align: top;\n",
              "    }\n",
              "\n",
              "    .dataframe thead th {\n",
              "        text-align: right;\n",
              "    }\n",
              "</style>\n",
              "<table border=\"1\" class=\"dataframe\">\n",
              "  <thead>\n",
              "    <tr style=\"text-align: right;\">\n",
              "      <th></th>\n",
              "      <th>Open</th>\n",
              "      <th>High</th>\n",
              "      <th>Low</th>\n",
              "      <th>Close</th>\n",
              "      <th>Adj Close</th>\n",
              "      <th>Volume</th>\n",
              "    </tr>\n",
              "  </thead>\n",
              "  <tbody>\n",
              "    <tr>\n",
              "      <th>count</th>\n",
              "      <td>5197.000000</td>\n",
              "      <td>5197.000000</td>\n",
              "      <td>5197.000000</td>\n",
              "      <td>5197.000000</td>\n",
              "      <td>5197.000000</td>\n",
              "      <td>5.197000e+03</td>\n",
              "    </tr>\n",
              "    <tr>\n",
              "      <th>mean</th>\n",
              "      <td>336.963180</td>\n",
              "      <td>341.083558</td>\n",
              "      <td>332.748379</td>\n",
              "      <td>336.914944</td>\n",
              "      <td>229.279655</td>\n",
              "      <td>1.693226e+07</td>\n",
              "    </tr>\n",
              "    <tr>\n",
              "      <th>std</th>\n",
              "      <td>235.769012</td>\n",
              "      <td>238.179992</td>\n",
              "      <td>233.545951</td>\n",
              "      <td>235.886808</td>\n",
              "      <td>257.156810</td>\n",
              "      <td>1.684604e+07</td>\n",
              "    </tr>\n",
              "    <tr>\n",
              "      <th>min</th>\n",
              "      <td>33.984402</td>\n",
              "      <td>36.718800</td>\n",
              "      <td>33.049198</td>\n",
              "      <td>34.177299</td>\n",
              "      <td>1.347680</td>\n",
              "      <td>0.000000e+00</td>\n",
              "    </tr>\n",
              "    <tr>\n",
              "      <th>25%</th>\n",
              "      <td>137.625000</td>\n",
              "      <td>140.000000</td>\n",
              "      <td>135.438004</td>\n",
              "      <td>137.837006</td>\n",
              "      <td>25.531567</td>\n",
              "      <td>6.818632e+06</td>\n",
              "    </tr>\n",
              "    <tr>\n",
              "      <th>50%</th>\n",
              "      <td>297.250000</td>\n",
              "      <td>300.600006</td>\n",
              "      <td>294.075012</td>\n",
              "      <td>297.419006</td>\n",
              "      <td>138.221176</td>\n",
              "      <td>1.046327e+07</td>\n",
              "    </tr>\n",
              "    <tr>\n",
              "      <th>75%</th>\n",
              "      <td>492.500000</td>\n",
              "      <td>497.000000</td>\n",
              "      <td>487.500000</td>\n",
              "      <td>492.024994</td>\n",
              "      <td>418.618561</td>\n",
              "      <td>2.035916e+07</td>\n",
              "    </tr>\n",
              "    <tr>\n",
              "      <th>max</th>\n",
              "      <td>1378.000000</td>\n",
              "      <td>1383.349976</td>\n",
              "      <td>1360.000000</td>\n",
              "      <td>1376.199951</td>\n",
              "      <td>1376.199951</td>\n",
              "      <td>2.766150e+08</td>\n",
              "    </tr>\n",
              "  </tbody>\n",
              "</table>\n",
              "</div>"
            ],
            "text/plain": [
              "              Open         High  ...    Adj Close        Volume\n",
              "count  5197.000000  5197.000000  ...  5197.000000  5.197000e+03\n",
              "mean    336.963180   341.083558  ...   229.279655  1.693226e+07\n",
              "std     235.769012   238.179992  ...   257.156810  1.684604e+07\n",
              "min      33.984402    36.718800  ...     1.347680  0.000000e+00\n",
              "25%     137.625000   140.000000  ...    25.531567  6.818632e+06\n",
              "50%     297.250000   300.600006  ...   138.221176  1.046327e+07\n",
              "75%     492.500000   497.000000  ...   418.618561  2.035916e+07\n",
              "max    1378.000000  1383.349976  ...  1376.199951  2.766150e+08\n",
              "\n",
              "[8 rows x 6 columns]"
            ]
          },
          "metadata": {
            "tags": []
          },
          "execution_count": 5
        }
      ]
    },
    {
      "cell_type": "code",
      "metadata": {
        "colab": {
          "base_uri": "https://localhost:8080/"
        },
        "id": "lRmZPtG8P2Ep",
        "outputId": "42db69cf-9002-46ed-cd4b-e7bd7fd51ca4"
      },
      "source": [
        "df.shape"
      ],
      "execution_count": null,
      "outputs": [
        {
          "output_type": "execute_result",
          "data": {
            "text/plain": [
              "(5267, 7)"
            ]
          },
          "metadata": {
            "tags": []
          },
          "execution_count": 6
        }
      ]
    },
    {
      "cell_type": "code",
      "metadata": {
        "colab": {
          "base_uri": "https://localhost:8080/"
        },
        "id": "n-8RfVVsP2Eq",
        "outputId": "77ebd533-34b2-4087-d492-6fc6a3d9fda6"
      },
      "source": [
        "df.isnull().sum()"
      ],
      "execution_count": null,
      "outputs": [
        {
          "output_type": "execute_result",
          "data": {
            "text/plain": [
              "Date          0\n",
              "Open         70\n",
              "High         70\n",
              "Low          70\n",
              "Close        70\n",
              "Adj Close    70\n",
              "Volume       70\n",
              "dtype: int64"
            ]
          },
          "metadata": {
            "tags": []
          },
          "execution_count": 7
        }
      ]
    },
    {
      "cell_type": "code",
      "metadata": {
        "colab": {
          "base_uri": "https://localhost:8080/"
        },
        "id": "xPrQvuhyP2Er",
        "outputId": "bf434ab4-4560-48cd-adf3-db765e365205"
      },
      "source": [
        "df1 = df.dropna()\n",
        "print(df1)"
      ],
      "execution_count": null,
      "outputs": [
        {
          "output_type": "stream",
          "text": [
            "            Date         Open  ...    Adj Close      Volume\n",
            "0     2000-01-03   122.070000  ...     3.991093    657536.0\n",
            "1     2000-01-04   131.250000  ...     4.305449   7191808.0\n",
            "2     2000-01-05   122.664001  ...     3.961014  21069440.0\n",
            "3     2000-01-06   119.193001  ...     3.644139  10495616.0\n",
            "4     2000-01-07   102.542999  ...     3.352601    971392.0\n",
            "...          ...          ...  ...          ...         ...\n",
            "5262  2021-01-06  1300.000000  ...  1282.099976   7161715.0\n",
            "5263  2021-01-07  1296.000000  ...  1262.150024  10954918.0\n",
            "5264  2021-01-08  1278.250000  ...  1312.099976  13186251.0\n",
            "5265  2021-01-11  1342.099976  ...  1376.199951  20528626.0\n",
            "5266  2021-01-12  1378.000000  ...  1371.750000   8309868.0\n",
            "\n",
            "[5197 rows x 7 columns]\n"
          ],
          "name": "stdout"
        }
      ]
    },
    {
      "cell_type": "code",
      "metadata": {
        "colab": {
          "base_uri": "https://localhost:8080/"
        },
        "id": "JbwwSrgTP2Es",
        "outputId": "0a38195c-900c-4241-8ca7-7001a0e2e7b8"
      },
      "source": [
        "df1.shape"
      ],
      "execution_count": null,
      "outputs": [
        {
          "output_type": "execute_result",
          "data": {
            "text/plain": [
              "(5197, 7)"
            ]
          },
          "metadata": {
            "tags": []
          },
          "execution_count": 9
        }
      ]
    },
    {
      "cell_type": "markdown",
      "metadata": {
        "id": "YSCGdjnYP2Es"
      },
      "source": [
        "There are multiple variables in the dataset – Date, Open, High, Low, Close, Adj Close and Volume.\n",
        "\n",
        "The columns Open and Close represent the starting and final price at which the stock is traded on a particular day.\n",
        "High and Low represent the maximum, minimum price of the share for the day.\n",
        "Volume is the number of shares bought or sold in the day \n"
      ]
    },
    {
      "cell_type": "code",
      "metadata": {
        "colab": {
          "base_uri": "https://localhost:8080/"
        },
        "id": "t_xbEp8uP2Et",
        "outputId": "db242272-a85d-46bf-b2a6-7193cc8d5eb7"
      },
      "source": [
        "# Setting index as date\n",
        "\n",
        "df1['Date']=pd.to_datetime(df1.Date,format='%Y-%m-%d')\n",
        "df1.index = df1['Date']"
      ],
      "execution_count": null,
      "outputs": [
        {
          "output_type": "stream",
          "text": [
            "/usr/local/lib/python3.6/dist-packages/ipykernel_launcher.py:3: SettingWithCopyWarning: \n",
            "A value is trying to be set on a copy of a slice from a DataFrame.\n",
            "Try using .loc[row_indexer,col_indexer] = value instead\n",
            "\n",
            "See the caveats in the documentation: https://pandas.pydata.org/pandas-docs/stable/user_guide/indexing.html#returning-a-view-versus-a-copy\n",
            "  This is separate from the ipykernel package so we can avoid doing imports until\n"
          ],
          "name": "stderr"
        }
      ]
    },
    {
      "cell_type": "code",
      "metadata": {
        "colab": {
          "base_uri": "https://localhost:8080/",
          "height": 500
        },
        "id": "ZyXezxp7P2Eu",
        "outputId": "ab1e8994-a365-4c17-9d22-498b8c7aaa02"
      },
      "source": [
        "# PLot figure\n",
        "\n",
        "plt.figure(figsize = (16,8))\n",
        "plt.plot(df['Close'],label='Close Price History')"
      ],
      "execution_count": null,
      "outputs": [
        {
          "output_type": "execute_result",
          "data": {
            "text/plain": [
              "[<matplotlib.lines.Line2D at 0x7f10dc410fd0>]"
            ]
          },
          "metadata": {
            "tags": []
          },
          "execution_count": 11
        },
        {
          "output_type": "display_data",
          "data": {
            "image/png": "[encoded data removed]",
            "text/plain": [
              "<Figure size 1152x576 with 1 Axes>"
            ]
          },
          "metadata": {
            "tags": [],
            "needs_background": "light"
          }
        }
      ]
    },
    {
      "cell_type": "code",
      "metadata": {
        "colab": {
          "base_uri": "https://localhost:8080/",
          "height": 235
        },
        "id": "YipbZcDkP2Eu",
        "outputId": "6c350fde-ab5b-42c6-eb18-0d86172f512b"
      },
      "source": [
        "df1.head() # Query - Why getting dates twice\n",
        "           # First date is index, second date is column data"
      ],
      "execution_count": null,
      "outputs": [
        {
          "output_type": "execute_result",
          "data": {
            "text/html": [
              "<div>\n",
              "<style scoped>\n",
              "    .dataframe tbody tr th:only-of-type {\n",
              "        vertical-align: middle;\n",
              "    }\n",
              "\n",
              "    .dataframe tbody tr th {\n",
              "        vertical-align: top;\n",
              "    }\n",
              "\n",
              "    .dataframe thead th {\n",
              "        text-align: right;\n",
              "    }\n",
              "</style>\n",
              "<table border=\"1\" class=\"dataframe\">\n",
              "  <thead>\n",
              "    <tr style=\"text-align: right;\">\n",
              "      <th></th>\n",
              "      <th>Date</th>\n",
              "      <th>Open</th>\n",
              "      <th>High</th>\n",
              "      <th>Low</th>\n",
              "      <th>Close</th>\n",
              "      <th>Adj Close</th>\n",
              "      <th>Volume</th>\n",
              "    </tr>\n",
              "    <tr>\n",
              "      <th>Date</th>\n",
              "      <th></th>\n",
              "      <th></th>\n",
              "      <th></th>\n",
              "      <th></th>\n",
              "      <th></th>\n",
              "      <th></th>\n",
              "      <th></th>\n",
              "    </tr>\n",
              "  </thead>\n",
              "  <tbody>\n",
              "    <tr>\n",
              "      <th>2000-01-03</th>\n",
              "      <td>2000-01-03</td>\n",
              "      <td>122.070000</td>\n",
              "      <td>122.071999</td>\n",
              "      <td>122.070000</td>\n",
              "      <td>122.071999</td>\n",
              "      <td>3.991093</td>\n",
              "      <td>657536.0</td>\n",
              "    </tr>\n",
              "    <tr>\n",
              "      <th>2000-01-04</th>\n",
              "      <td>2000-01-04</td>\n",
              "      <td>131.250000</td>\n",
              "      <td>131.837997</td>\n",
              "      <td>126.976997</td>\n",
              "      <td>131.686996</td>\n",
              "      <td>4.305449</td>\n",
              "      <td>7191808.0</td>\n",
              "    </tr>\n",
              "    <tr>\n",
              "      <th>2000-01-05</th>\n",
              "      <td>2000-01-05</td>\n",
              "      <td>122.664001</td>\n",
              "      <td>126.953003</td>\n",
              "      <td>121.152000</td>\n",
              "      <td>121.152000</td>\n",
              "      <td>3.961014</td>\n",
              "      <td>21069440.0</td>\n",
              "    </tr>\n",
              "    <tr>\n",
              "      <th>2000-01-06</th>\n",
              "      <td>2000-01-06</td>\n",
              "      <td>119.193001</td>\n",
              "      <td>119.530998</td>\n",
              "      <td>111.459999</td>\n",
              "      <td>111.459999</td>\n",
              "      <td>3.644139</td>\n",
              "      <td>10495616.0</td>\n",
              "    </tr>\n",
              "    <tr>\n",
              "      <th>2000-01-07</th>\n",
              "      <td>2000-01-07</td>\n",
              "      <td>102.542999</td>\n",
              "      <td>102.542999</td>\n",
              "      <td>102.542999</td>\n",
              "      <td>102.542999</td>\n",
              "      <td>3.352601</td>\n",
              "      <td>971392.0</td>\n",
              "    </tr>\n",
              "  </tbody>\n",
              "</table>\n",
              "</div>"
            ],
            "text/plain": [
              "                 Date        Open  ...  Adj Close      Volume\n",
              "Date                               ...                       \n",
              "2000-01-03 2000-01-03  122.070000  ...   3.991093    657536.0\n",
              "2000-01-04 2000-01-04  131.250000  ...   4.305449   7191808.0\n",
              "2000-01-05 2000-01-05  122.664001  ...   3.961014  21069440.0\n",
              "2000-01-06 2000-01-06  119.193001  ...   3.644139  10495616.0\n",
              "2000-01-07 2000-01-07  102.542999  ...   3.352601    971392.0\n",
              "\n",
              "[5 rows x 7 columns]"
            ]
          },
          "metadata": {
            "tags": []
          },
          "execution_count": 12
        }
      ]
    },
    {
      "cell_type": "code",
      "metadata": {
        "colab": {
          "base_uri": "https://localhost:8080/"
        },
        "id": "Y6LNsdwWP2Ev",
        "outputId": "8fbd6550-129c-4c57-9fa9-6fc70e6a7a77"
      },
      "source": [
        "df1.shape"
      ],
      "execution_count": null,
      "outputs": [
        {
          "output_type": "execute_result",
          "data": {
            "text/plain": [
              "(5197, 7)"
            ]
          },
          "metadata": {
            "tags": []
          },
          "execution_count": 13
        }
      ]
    },
    {
      "cell_type": "code",
      "metadata": {
        "colab": {
          "base_uri": "https://localhost:8080/"
        },
        "id": "t-3fvaumP2Ev",
        "outputId": "c18f3ffe-ec1d-40c5-d477-ced521b66992"
      },
      "source": [
        "# Setting the Index as date\n",
        "df1['Date'] = pd.to_datetime(df1.Date,format='%d-%m-%Y')\n",
        "df1.index = df1['Date']"
      ],
      "execution_count": null,
      "outputs": [
        {
          "output_type": "stream",
          "text": [
            "/usr/local/lib/python3.6/dist-packages/ipykernel_launcher.py:2: SettingWithCopyWarning: \n",
            "A value is trying to be set on a copy of a slice from a DataFrame.\n",
            "Try using .loc[row_indexer,col_indexer] = value instead\n",
            "\n",
            "See the caveats in the documentation: https://pandas.pydata.org/pandas-docs/stable/user_guide/indexing.html#returning-a-view-versus-a-copy\n",
            "  \n"
          ],
          "name": "stderr"
        }
      ]
    },
    {
      "cell_type": "code",
      "metadata": {
        "colab": {
          "base_uri": "https://localhost:8080/",
          "height": 235
        },
        "id": "-5juje_aP2Ev",
        "outputId": "ba6d3e7d-ecbd-4109-a7cb-34fc5308dce7"
      },
      "source": [
        "df1.head()"
      ],
      "execution_count": null,
      "outputs": [
        {
          "output_type": "execute_result",
          "data": {
            "text/html": [
              "<div>\n",
              "<style scoped>\n",
              "    .dataframe tbody tr th:only-of-type {\n",
              "        vertical-align: middle;\n",
              "    }\n",
              "\n",
              "    .dataframe tbody tr th {\n",
              "        vertical-align: top;\n",
              "    }\n",
              "\n",
              "    .dataframe thead th {\n",
              "        text-align: right;\n",
              "    }\n",
              "</style>\n",
              "<table border=\"1\" class=\"dataframe\">\n",
              "  <thead>\n",
              "    <tr style=\"text-align: right;\">\n",
              "      <th></th>\n",
              "      <th>Date</th>\n",
              "      <th>Open</th>\n",
              "      <th>High</th>\n",
              "      <th>Low</th>\n",
              "      <th>Close</th>\n",
              "      <th>Adj Close</th>\n",
              "      <th>Volume</th>\n",
              "    </tr>\n",
              "    <tr>\n",
              "      <th>Date</th>\n",
              "      <th></th>\n",
              "      <th></th>\n",
              "      <th></th>\n",
              "      <th></th>\n",
              "      <th></th>\n",
              "      <th></th>\n",
              "      <th></th>\n",
              "    </tr>\n",
              "  </thead>\n",
              "  <tbody>\n",
              "    <tr>\n",
              "      <th>2000-01-03</th>\n",
              "      <td>2000-01-03</td>\n",
              "      <td>122.070000</td>\n",
              "      <td>122.071999</td>\n",
              "      <td>122.070000</td>\n",
              "      <td>122.071999</td>\n",
              "      <td>3.991093</td>\n",
              "      <td>657536.0</td>\n",
              "    </tr>\n",
              "    <tr>\n",
              "      <th>2000-01-04</th>\n",
              "      <td>2000-01-04</td>\n",
              "      <td>131.250000</td>\n",
              "      <td>131.837997</td>\n",
              "      <td>126.976997</td>\n",
              "      <td>131.686996</td>\n",
              "      <td>4.305449</td>\n",
              "      <td>7191808.0</td>\n",
              "    </tr>\n",
              "    <tr>\n",
              "      <th>2000-01-05</th>\n",
              "      <td>2000-01-05</td>\n",
              "      <td>122.664001</td>\n",
              "      <td>126.953003</td>\n",
              "      <td>121.152000</td>\n",
              "      <td>121.152000</td>\n",
              "      <td>3.961014</td>\n",
              "      <td>21069440.0</td>\n",
              "    </tr>\n",
              "    <tr>\n",
              "      <th>2000-01-06</th>\n",
              "      <td>2000-01-06</td>\n",
              "      <td>119.193001</td>\n",
              "      <td>119.530998</td>\n",
              "      <td>111.459999</td>\n",
              "      <td>111.459999</td>\n",
              "      <td>3.644139</td>\n",
              "      <td>10495616.0</td>\n",
              "    </tr>\n",
              "    <tr>\n",
              "      <th>2000-01-07</th>\n",
              "      <td>2000-01-07</td>\n",
              "      <td>102.542999</td>\n",
              "      <td>102.542999</td>\n",
              "      <td>102.542999</td>\n",
              "      <td>102.542999</td>\n",
              "      <td>3.352601</td>\n",
              "      <td>971392.0</td>\n",
              "    </tr>\n",
              "  </tbody>\n",
              "</table>\n",
              "</div>"
            ],
            "text/plain": [
              "                 Date        Open  ...  Adj Close      Volume\n",
              "Date                               ...                       \n",
              "2000-01-03 2000-01-03  122.070000  ...   3.991093    657536.0\n",
              "2000-01-04 2000-01-04  131.250000  ...   4.305449   7191808.0\n",
              "2000-01-05 2000-01-05  122.664001  ...   3.961014  21069440.0\n",
              "2000-01-06 2000-01-06  119.193001  ...   3.644139  10495616.0\n",
              "2000-01-07 2000-01-07  102.542999  ...   3.352601    971392.0\n",
              "\n",
              "[5 rows x 7 columns]"
            ]
          },
          "metadata": {
            "tags": []
          },
          "execution_count": 15
        }
      ]
    },
    {
      "cell_type": "code",
      "metadata": {
        "id": "Y2JH6oP6P2Ew"
      },
      "source": [
        "#creating dataframe with date and the target variable\n",
        "data = df1.sort_index(ascending=True, axis=0)\n",
        "new_data = pd.DataFrame(index=range(0,len(df1)),columns=['Date', 'Close'])"
      ],
      "execution_count": null,
      "outputs": []
    },
    {
      "cell_type": "code",
      "metadata": {
        "id": "2WeLrAaYP2Ex"
      },
      "source": [
        "for i in range(0,len(data)):\n",
        "    new_data['Date'][i]= data['Date'][i]\n",
        "    new_data['Close'][i]= data['Close'][i]"
      ],
      "execution_count": null,
      "outputs": []
    },
    {
      "cell_type": "code",
      "metadata": {
        "colab": {
          "base_uri": "https://localhost:8080/",
          "height": 204
        },
        "id": "F3Lv1ZUdP2Ex",
        "outputId": "30bae1aa-0767-4c76-c935-0059fc8b0f29"
      },
      "source": [
        "new_data.head()"
      ],
      "execution_count": null,
      "outputs": [
        {
          "output_type": "execute_result",
          "data": {
            "text/html": [
              "<div>\n",
              "<style scoped>\n",
              "    .dataframe tbody tr th:only-of-type {\n",
              "        vertical-align: middle;\n",
              "    }\n",
              "\n",
              "    .dataframe tbody tr th {\n",
              "        vertical-align: top;\n",
              "    }\n",
              "\n",
              "    .dataframe thead th {\n",
              "        text-align: right;\n",
              "    }\n",
              "</style>\n",
              "<table border=\"1\" class=\"dataframe\">\n",
              "  <thead>\n",
              "    <tr style=\"text-align: right;\">\n",
              "      <th></th>\n",
              "      <th>Date</th>\n",
              "      <th>Close</th>\n",
              "    </tr>\n",
              "  </thead>\n",
              "  <tbody>\n",
              "    <tr>\n",
              "      <th>0</th>\n",
              "      <td>2000-01-03 00:00:00</td>\n",
              "      <td>122.072</td>\n",
              "    </tr>\n",
              "    <tr>\n",
              "      <th>1</th>\n",
              "      <td>2000-01-04 00:00:00</td>\n",
              "      <td>131.687</td>\n",
              "    </tr>\n",
              "    <tr>\n",
              "      <th>2</th>\n",
              "      <td>2000-01-05 00:00:00</td>\n",
              "      <td>121.152</td>\n",
              "    </tr>\n",
              "    <tr>\n",
              "      <th>3</th>\n",
              "      <td>2000-01-06 00:00:00</td>\n",
              "      <td>111.46</td>\n",
              "    </tr>\n",
              "    <tr>\n",
              "      <th>4</th>\n",
              "      <td>2000-01-07 00:00:00</td>\n",
              "      <td>102.543</td>\n",
              "    </tr>\n",
              "  </tbody>\n",
              "</table>\n",
              "</div>"
            ],
            "text/plain": [
              "                  Date    Close\n",
              "0  2000-01-03 00:00:00  122.072\n",
              "1  2000-01-04 00:00:00  131.687\n",
              "2  2000-01-05 00:00:00  121.152\n",
              "3  2000-01-06 00:00:00   111.46\n",
              "4  2000-01-07 00:00:00  102.543"
            ]
          },
          "metadata": {
            "tags": []
          },
          "execution_count": 18
        }
      ]
    },
    {
      "cell_type": "code",
      "metadata": {
        "id": "g_Ny9LR8P2Ex"
      },
      "source": [
        "train_len = round(0.8 * new_data.shape[0])"
      ],
      "execution_count": null,
      "outputs": []
    },
    {
      "cell_type": "code",
      "metadata": {
        "id": "BC6kSUj5P2Ey"
      },
      "source": [
        "# NOTE: While splitting the data into train and validation set,\n",
        "#we cannot use random splitting since that will destroy the time component.\n",
        "# So here we have set the 20% data into test and the 80% data into train set.\n",
        "\n",
        "# splitting into train and test\n",
        "train = new_data[:train_len]\n",
        "test = new_data[train_len:]"
      ],
      "execution_count": null,
      "outputs": []
    },
    {
      "cell_type": "code",
      "metadata": {
        "colab": {
          "base_uri": "https://localhost:8080/"
        },
        "id": "hHlNdFA5P2Ey",
        "outputId": "12c2217e-9f1a-465d-c9fb-f1b982ddf4d1"
      },
      "source": [
        "#Shape of training set\n",
        "print('\\n Shape of training data')\n",
        "print(train.shape)"
      ],
      "execution_count": null,
      "outputs": [
        {
          "output_type": "stream",
          "text": [
            "\n",
            " Shape of training data\n",
            "(4158, 2)\n"
          ],
          "name": "stdout"
        }
      ]
    },
    {
      "cell_type": "code",
      "metadata": {
        "colab": {
          "base_uri": "https://localhost:8080/"
        },
        "id": "4snNihh3P2Ey",
        "outputId": "48044b25-aabd-44a1-ddcf-380b95de95c0"
      },
      "source": [
        "# Shape of tets data\n",
        "print('\\n Shape of test data')\n",
        "print(test.shape)"
      ],
      "execution_count": null,
      "outputs": [
        {
          "output_type": "stream",
          "text": [
            "\n",
            " Shape of test data\n",
            "(1039, 2)\n"
          ],
          "name": "stdout"
        }
      ]
    },
    {
      "cell_type": "code",
      "metadata": {
        "id": "jA5qly_QP2Ez"
      },
      "source": [
        "# # IN the next step we will be creating prediciton for the test set and check the RmSE using the actual values\n",
        "# # making prediction\n",
        "# preds =[]\n",
        "# for i in range(0,test.shape[0]):\n",
        "#     a=train['Close'][len(train)-1039+i:].sum()+sum(preds)\n",
        "#     b=a/1039\n",
        "#     preds.append\n",
        "    "
      ],
      "execution_count": null,
      "outputs": []
    },
    {
      "cell_type": "code",
      "metadata": {
        "id": "ZeVkhWsGP2Ez"
      },
      "source": [
        "test_len = len(test)"
      ],
      "execution_count": null,
      "outputs": []
    },
    {
      "cell_type": "code",
      "metadata": {
        "id": "zfnObNQZP2E0"
      },
      "source": [
        "# IN the next step we will be creating prediciton for the test set and check the RmSE using the actual values\n",
        "# making prediction\n",
        "preds =[]\n",
        "for i in range(0,test.shape[0]):\n",
        "    a=train['Close'][len(train)-test_len+i:].sum()+sum(preds)\n",
        "    b=a/test_len\n",
        "    preds.append(b) # (b) is missing in original work\n",
        "    "
      ],
      "execution_count": null,
      "outputs": []
    },
    {
      "cell_type": "code",
      "metadata": {
        "colab": {
          "base_uri": "https://localhost:8080/"
        },
        "id": "eKUaSaApP2E0",
        "outputId": "d5750e3f-cabe-42c4-eadf-5cbf0463aaf0"
      },
      "source": [
        "#Checking the RmSE Values\n",
        "rms=np.sqrt(np.mean(np.power((np.array(test['Close'])-preds),2)))\n",
        "print('\\n RmSE value on test data set: ')\n",
        "print(rms)"
      ],
      "execution_count": null,
      "outputs": [
        {
          "output_type": "stream",
          "text": [
            "\n",
            " RmSE value on test data set: \n",
            "249.70263412344687\n"
          ],
          "name": "stdout"
        }
      ]
    },
    {
      "cell_type": "code",
      "metadata": {
        "colab": {
          "base_uri": "https://localhost:8080/",
          "height": 523
        },
        "id": "RlLdBDuKP2E1",
        "outputId": "b30c1602-137c-48d9-d229-c660af9dc797"
      },
      "source": [
        "#plot\n",
        "test['Predictions'] =0\n",
        "test['Predictions'] = preds\n",
        "plt.plot(train['Close'])\n",
        "plt.plot(test[['Close', 'Predictions']])"
      ],
      "execution_count": null,
      "outputs": [
        {
          "output_type": "stream",
          "text": [
            "/usr/local/lib/python3.6/dist-packages/ipykernel_launcher.py:2: SettingWithCopyWarning: \n",
            "A value is trying to be set on a copy of a slice from a DataFrame.\n",
            "Try using .loc[row_indexer,col_indexer] = value instead\n",
            "\n",
            "See the caveats in the documentation: https://pandas.pydata.org/pandas-docs/stable/user_guide/indexing.html#returning-a-view-versus-a-copy\n",
            "  \n",
            "/usr/local/lib/python3.6/dist-packages/ipykernel_launcher.py:3: SettingWithCopyWarning: \n",
            "A value is trying to be set on a copy of a slice from a DataFrame.\n",
            "Try using .loc[row_indexer,col_indexer] = value instead\n",
            "\n",
            "See the caveats in the documentation: https://pandas.pydata.org/pandas-docs/stable/user_guide/indexing.html#returning-a-view-versus-a-copy\n",
            "  This is separate from the ipykernel package so we can avoid doing imports until\n"
          ],
          "name": "stderr"
        },
        {
          "output_type": "execute_result",
          "data": {
            "text/plain": [
              "[<matplotlib.lines.Line2D at 0x7f10dbde5ac8>,\n",
              " <matplotlib.lines.Line2D at 0x7f10dbde5c18>]"
            ]
          },
          "metadata": {
            "tags": []
          },
          "execution_count": 27
        },
        {
          "output_type": "display_data",
          "data": {
            "image/png": "[encoded data removed]",
            "text/plain": [
              "<Figure size 432x288 with 1 Axes>"
            ]
          },
          "metadata": {
            "tags": [],
            "needs_background": "light"
          }
        }
      ]
    },
    {
      "cell_type": "markdown",
      "metadata": {
        "id": "rhVxmVwkP2E2"
      },
      "source": [
        "The RMSE value is close to \"  \" but the results are not very promising (as you can gather from the plot). The predicted values are of the same range as the observed values in the train set (there is an increasing trend initially and then a slow decrease).\n",
        "\n",
        "In the next section, we will look at two commonly used machine learning techniques – Linear Regression and kNN, and see how they perform on our stock market data."
      ]
    },
    {
      "cell_type": "code",
      "metadata": {
        "id": "jtOF53_AP2E2"
      },
      "source": [
        "# The most basic machine learning algorithm that can be implemented on this data is linear regression. \n",
        "#The linear regression model returns an equation that determines the relationship between the independent and the dependent variable.\n",
        "#We do not have a set of independent variables. We have only the dates instead. \n",
        "#Let us use the date column to extract features like – day, month, year,  mon/fri etc. and then fit a linear regression model.\n",
        "\n",
        "#Implementation :We will first sort the dataset in ascending order and then create a separate dataset so that any new feature \n",
        "#created does not affect the original data.\n",
        "\n",
        "#setting index as date values\n",
        "df['Date'] = pd.to_datetime(df.Date,format='%Y-%m-%d')\n",
        "df.index = df['Date']\n",
        "\n",
        "#sorting\n",
        "data = df.sort_index(ascending=True, axis=0)\n",
        "\n",
        "#creating a separate dataset\n",
        "new_data = pd.DataFrame(index=range(0,len(df)),columns=['Date', 'Close'])\n",
        "\n",
        "for i in range(0,len(data)):\n",
        "    new_data['Date'][i] = data['Date'][i]\n",
        "    new_data['Close'][i] = data['Close'][i]\n"
      ],
      "execution_count": null,
      "outputs": []
    },
    {
      "cell_type": "code",
      "metadata": {
        "id": "Z6mV-biDP2E3"
      },
      "source": [
        "from fastai.tabular import *"
      ],
      "execution_count": null,
      "outputs": []
    },
    {
      "cell_type": "code",
      "metadata": {
        "colab": {
          "base_uri": "https://localhost:8080/"
        },
        "id": "cynxvDXWP2E3",
        "outputId": "3f5dccbd-4ce6-467b-f69e-c014f3d41781"
      },
      "source": [
        "#create features # Not running as unable to installl Fastai\n",
        "#from fastai.structured import  add_datepart\n",
        "add_datepart(new_data, 'Date')\n",
        "new_data.drop('Elapsed', axis=1, inplace=True)  #elapsed will be the time stamp"
      ],
      "execution_count": null,
      "outputs": [
        {
          "output_type": "stream",
          "text": [
            "/usr/local/lib/python3.6/dist-packages/fastai/tabular/transform.py:63: FutureWarning: Series.dt.weekofyear and Series.dt.week have been deprecated.  Please use Series.dt.isocalendar().week instead.\n",
            "  for n in attr: df[prefix + n] = getattr(field.dt, n.lower())\n"
          ],
          "name": "stderr"
        }
      ]
    },
    {
      "cell_type": "code",
      "metadata": {
        "colab": {
          "base_uri": "https://localhost:8080/"
        },
        "id": "tWc6WNvjP2E4",
        "outputId": "1b83b8ff-6e5c-47db-9fd4-11c0f5473cc7"
      },
      "source": [
        "# Substitue of above, but also getting error\n",
        "new_data['mon_fri'] = 0\n",
        "for i in range(0,len(new_data)):\n",
        "    if (new_data['Dayofweek'][i] == 0 or new_data['Dayofweek'][i] == 4):\n",
        "        new_data['mon_fri'][i] = 1\n",
        "    else:\n",
        "        new_data['mon_fri'][i] = 0"
      ],
      "execution_count": null,
      "outputs": [
        {
          "output_type": "stream",
          "text": [
            "/usr/local/lib/python3.6/dist-packages/ipykernel_launcher.py:5: SettingWithCopyWarning: \n",
            "A value is trying to be set on a copy of a slice from a DataFrame\n",
            "\n",
            "See the caveats in the documentation: https://pandas.pydata.org/pandas-docs/stable/user_guide/indexing.html#returning-a-view-versus-a-copy\n",
            "  \"\"\"\n",
            "/usr/local/lib/python3.6/dist-packages/ipykernel_launcher.py:7: SettingWithCopyWarning: \n",
            "A value is trying to be set on a copy of a slice from a DataFrame\n",
            "\n",
            "See the caveats in the documentation: https://pandas.pydata.org/pandas-docs/stable/user_guide/indexing.html#returning-a-view-versus-a-copy\n",
            "  import sys\n"
          ],
          "name": "stderr"
        }
      ]
    },
    {
      "cell_type": "code",
      "metadata": {
        "id": "LVkloUxBP2E4"
      },
      "source": [
        "# Substitue of above and fastai method\n",
        "d = pd.date_range('2000-01-03', '2021-01-12', freq='D').to_series()\n",
        "s = (d.dt.dayofweek==1) |(d.dt.dayofweek==4)\n",
        "t = s.apply(lambda x: int(x==True))"
      ],
      "execution_count": null,
      "outputs": []
    },
    {
      "cell_type": "code",
      "metadata": {
        "colab": {
          "base_uri": "https://localhost:8080/"
        },
        "id": "N4zJ8WjUP2E4",
        "outputId": "3bac3e8e-870c-411e-c57f-cc85086faca5"
      },
      "source": [
        "new_data.isnull().sum()"
      ],
      "execution_count": null,
      "outputs": [
        {
          "output_type": "execute_result",
          "data": {
            "text/plain": [
              "Close               70\n",
              "Year                 0\n",
              "Month                0\n",
              "Week                 0\n",
              "Day                  0\n",
              "Dayofweek            0\n",
              "Dayofyear            0\n",
              "Is_month_end         0\n",
              "Is_month_start       0\n",
              "Is_quarter_end       0\n",
              "Is_quarter_start     0\n",
              "Is_year_end          0\n",
              "Is_year_start        0\n",
              "mon_fri              0\n",
              "dtype: int64"
            ]
          },
          "metadata": {
            "tags": []
          },
          "execution_count": 33
        }
      ]
    },
    {
      "cell_type": "code",
      "metadata": {
        "id": "lIuVrhHrP2E5"
      },
      "source": [
        "new_data = new_data.dropna()"
      ],
      "execution_count": null,
      "outputs": []
    },
    {
      "cell_type": "code",
      "metadata": {
        "colab": {
          "base_uri": "https://localhost:8080/"
        },
        "id": "GWuK-SszP2E5",
        "outputId": "ba8b7b0d-7d5e-46b6-db27-e230313a126c"
      },
      "source": [
        "new_data.isnull().sum()"
      ],
      "execution_count": null,
      "outputs": [
        {
          "output_type": "execute_result",
          "data": {
            "text/plain": [
              "Close               0\n",
              "Year                0\n",
              "Month               0\n",
              "Week                0\n",
              "Day                 0\n",
              "Dayofweek           0\n",
              "Dayofyear           0\n",
              "Is_month_end        0\n",
              "Is_month_start      0\n",
              "Is_quarter_end      0\n",
              "Is_quarter_start    0\n",
              "Is_year_end         0\n",
              "Is_year_start       0\n",
              "mon_fri             0\n",
              "dtype: int64"
            ]
          },
          "metadata": {
            "tags": []
          },
          "execution_count": 35
        }
      ]
    },
    {
      "cell_type": "code",
      "metadata": {
        "id": "37PmnQN8P2E5"
      },
      "source": [
        "train_len = round(0.8 * new_data.shape[0])"
      ],
      "execution_count": null,
      "outputs": []
    },
    {
      "cell_type": "code",
      "metadata": {
        "id": "NPOO2OHhP2E5"
      },
      "source": [
        "#split into train and validation\n",
        "train = new_data[:train_len]\n",
        "test = new_data[train_len:]"
      ],
      "execution_count": null,
      "outputs": []
    },
    {
      "cell_type": "code",
      "metadata": {
        "id": "UsGX6xCKP2E6"
      },
      "source": [
        "x_train = train.drop('Close', axis=1)\n",
        "y_train = train['Close']\n",
        "x_test = test.drop('Close', axis=1)\n",
        "y_test = test['Close']"
      ],
      "execution_count": null,
      "outputs": []
    },
    {
      "cell_type": "code",
      "metadata": {
        "colab": {
          "base_uri": "https://localhost:8080/"
        },
        "id": "ccpx8s8IP2E6",
        "outputId": "7102991c-d7fa-4706-9e78-ed8256061e1d"
      },
      "source": [
        "#implement linear regression\n",
        "from sklearn.linear_model import LinearRegression\n",
        "model = LinearRegression()\n",
        "model.fit(x_train,y_train)"
      ],
      "execution_count": null,
      "outputs": [
        {
          "output_type": "execute_result",
          "data": {
            "text/plain": [
              "LinearRegression(copy_X=True, fit_intercept=True, n_jobs=None, normalize=False)"
            ]
          },
          "metadata": {
            "tags": []
          },
          "execution_count": 39
        }
      ]
    },
    {
      "cell_type": "code",
      "metadata": {
        "colab": {
          "base_uri": "https://localhost:8080/"
        },
        "id": "wgSerzEkP2E6",
        "outputId": "f64be5c0-54d9-4ec8-afbf-ef67068e3b3e"
      },
      "source": [
        "#make predictions and find the rmse\n",
        "preds = model.predict(x_test)\n",
        "rms=np.sqrt(np.mean(np.power((np.array(y_test)-np.array(preds)),2)))\n",
        "rms"
      ],
      "execution_count": null,
      "outputs": [
        {
          "output_type": "execute_result",
          "data": {
            "text/plain": [
              "187.50068589391773"
            ]
          },
          "metadata": {
            "tags": []
          },
          "execution_count": 40
        }
      ]
    },
    {
      "cell_type": "code",
      "metadata": {
        "id": "d8ae6b14P2E7"
      },
      "source": [
        "#The RMSE value is higher than the previous technique, which clearly shows that linear regression has performed poorly. \n",
        "#Let’s look at the plot and understand why linear regression has not done well"
      ],
      "execution_count": null,
      "outputs": []
    },
    {
      "cell_type": "code",
      "metadata": {
        "colab": {
          "base_uri": "https://localhost:8080/",
          "height": 523
        },
        "id": "cdbhy_wPP2E7",
        "outputId": "dd002980-51e0-4186-fdd0-c749c7c4a403"
      },
      "source": [
        "#plot\n",
        "test['Predictions'] = 0\n",
        "test['Predictions'] = preds\n",
        "\n",
        "test.index = new_data[train_len:].index\n",
        "train.index = new_data[:train_len].index\n",
        "\n",
        "plt.plot(train['Close'])\n",
        "plt.plot(test[['Close', 'Predictions']])\n"
      ],
      "execution_count": null,
      "outputs": [
        {
          "output_type": "stream",
          "text": [
            "/usr/local/lib/python3.6/dist-packages/ipykernel_launcher.py:2: SettingWithCopyWarning: \n",
            "A value is trying to be set on a copy of a slice from a DataFrame.\n",
            "Try using .loc[row_indexer,col_indexer] = value instead\n",
            "\n",
            "See the caveats in the documentation: https://pandas.pydata.org/pandas-docs/stable/user_guide/indexing.html#returning-a-view-versus-a-copy\n",
            "  \n",
            "/usr/local/lib/python3.6/dist-packages/ipykernel_launcher.py:3: SettingWithCopyWarning: \n",
            "A value is trying to be set on a copy of a slice from a DataFrame.\n",
            "Try using .loc[row_indexer,col_indexer] = value instead\n",
            "\n",
            "See the caveats in the documentation: https://pandas.pydata.org/pandas-docs/stable/user_guide/indexing.html#returning-a-view-versus-a-copy\n",
            "  This is separate from the ipykernel package so we can avoid doing imports until\n"
          ],
          "name": "stderr"
        },
        {
          "output_type": "execute_result",
          "data": {
            "text/plain": [
              "[<matplotlib.lines.Line2D at 0x7f1081f28358>,\n",
              " <matplotlib.lines.Line2D at 0x7f1081f284a8>]"
            ]
          },
          "metadata": {
            "tags": []
          },
          "execution_count": 42
        },
        {
          "output_type": "display_data",
          "data": {
            "image/png": "[encoded data removed]",
            "text/plain": [
              "<Figure size 432x288 with 1 Axes>"
            ]
          },
          "metadata": {
            "tags": [],
            "needs_background": "light"
          }
        }
      ]
    },
    {
      "cell_type": "markdown",
      "metadata": {
        "id": "wUHcXojGP2E8"
      },
      "source": [
        "### KNN"
      ]
    },
    {
      "cell_type": "code",
      "metadata": {
        "id": "eavDrJiLP2E8"
      },
      "source": [
        "#importing libraries\n",
        "from sklearn import neighbors\n",
        "from sklearn.model_selection import GridSearchCV\n",
        "from sklearn.preprocessing import MinMaxScaler\n",
        "scaler = MinMaxScaler(feature_range=(0, 1))"
      ],
      "execution_count": null,
      "outputs": []
    },
    {
      "cell_type": "code",
      "metadata": {
        "id": "syc-cFKTP2E9"
      },
      "source": [
        "x_valid = x_test\n",
        "y_valid = y_test"
      ],
      "execution_count": null,
      "outputs": []
    },
    {
      "cell_type": "code",
      "metadata": {
        "id": "f9MSGSFuP2E9"
      },
      "source": [
        "#scaling data\n",
        "x_train_scaled = scaler.fit_transform(x_train)\n",
        "x_train = pd.DataFrame(x_train_scaled)\n",
        "x_valid_scaled = scaler.fit_transform(x_valid)\n",
        "x_valid = pd.DataFrame(x_valid_scaled)"
      ],
      "execution_count": null,
      "outputs": []
    },
    {
      "cell_type": "code",
      "metadata": {
        "id": "DiTt35xxP2E-"
      },
      "source": [
        "#using gridsearch to find the best parameter\n",
        "params = {'n_neighbors':[2,3,4,5,6,7,8,9]}\n",
        "knn = neighbors.KNeighborsRegressor()\n",
        "model = GridSearchCV(knn, params, cv=5)"
      ],
      "execution_count": null,
      "outputs": []
    },
    {
      "cell_type": "code",
      "metadata": {
        "id": "i69JckvPP2E-"
      },
      "source": [
        "#fit the model and make predictions\n",
        "model.fit(x_train,y_train)\n",
        "preds = model.predict(x_valid)"
      ],
      "execution_count": null,
      "outputs": []
    },
    {
      "cell_type": "code",
      "metadata": {
        "colab": {
          "base_uri": "https://localhost:8080/"
        },
        "id": "z9CI3nYVP2E_",
        "outputId": "d92305e0-c3b0-4934-e82b-30fc16a34e30"
      },
      "source": [
        "#rmse\n",
        "rms=np.sqrt(np.mean(np.power((np.array(y_valid)-np.array(preds)),2)))\n",
        "rms"
      ],
      "execution_count": null,
      "outputs": [
        {
          "output_type": "execute_result",
          "data": {
            "text/plain": [
              "455.2695013997319"
            ]
          },
          "metadata": {
            "tags": []
          },
          "execution_count": 48
        }
      ]
    },
    {
      "cell_type": "code",
      "metadata": {
        "id": "qPDzcI-AP2E_"
      },
      "source": [
        "valid = test"
      ],
      "execution_count": null,
      "outputs": []
    },
    {
      "cell_type": "code",
      "metadata": {
        "colab": {
          "base_uri": "https://localhost:8080/",
          "height": 506
        },
        "id": "PinTNfj0P2FA",
        "outputId": "8b4e664f-61cc-4006-cce0-66bf7fdc4ad4"
      },
      "source": [
        "#plot\n",
        "test['Predictions'] = 0\n",
        "test['Predictions'] = preds\n",
        "plt.plot(test[['Close', 'Predictions']])\n",
        "plt.plot(train['Close'])"
      ],
      "execution_count": null,
      "outputs": [
        {
          "output_type": "stream",
          "text": [
            "/usr/local/lib/python3.6/dist-packages/ipykernel_launcher.py:2: SettingWithCopyWarning: \n",
            "A value is trying to be set on a copy of a slice from a DataFrame.\n",
            "Try using .loc[row_indexer,col_indexer] = value instead\n",
            "\n",
            "See the caveats in the documentation: https://pandas.pydata.org/pandas-docs/stable/user_guide/indexing.html#returning-a-view-versus-a-copy\n",
            "  \n",
            "/usr/local/lib/python3.6/dist-packages/ipykernel_launcher.py:3: SettingWithCopyWarning: \n",
            "A value is trying to be set on a copy of a slice from a DataFrame.\n",
            "Try using .loc[row_indexer,col_indexer] = value instead\n",
            "\n",
            "See the caveats in the documentation: https://pandas.pydata.org/pandas-docs/stable/user_guide/indexing.html#returning-a-view-versus-a-copy\n",
            "  This is separate from the ipykernel package so we can avoid doing imports until\n"
          ],
          "name": "stderr"
        },
        {
          "output_type": "execute_result",
          "data": {
            "text/plain": [
              "[<matplotlib.lines.Line2D at 0x7f10812f8278>]"
            ]
          },
          "metadata": {
            "tags": []
          },
          "execution_count": 50
        },
        {
          "output_type": "display_data",
          "data": {
            "image/png": "[encoded data removed]",
            "text/plain": [
              "<Figure size 432x288 with 1 Axes>"
            ]
          },
          "metadata": {
            "tags": [],
            "needs_background": "light"
          }
        }
      ]
    },
    {
      "cell_type": "code",
      "metadata": {
        "id": "ezf2UVmGP2FB"
      },
      "source": [
        "#import six"
      ],
      "execution_count": null,
      "outputs": []
    },
    {
      "cell_type": "code",
      "metadata": {
        "id": "YYrJSiF_P2FB"
      },
      "source": [
        "#from pyramid.arima import auto_arima"
      ],
      "execution_count": null,
      "outputs": []
    },
    {
      "cell_type": "code",
      "metadata": {
        "id": "HcHblq0bP2FB"
      },
      "source": [
        "from pmdarima.arima import auto_arima"
      ],
      "execution_count": null,
      "outputs": []
    },
    {
      "cell_type": "code",
      "metadata": {
        "colab": {
          "base_uri": "https://localhost:8080/",
          "height": 309
        },
        "id": "mpFfplnVP2FC",
        "outputId": "a9c74811-0f00-4c60-dd5d-ecc7d0c0b82b"
      },
      "source": [
        "# to make the above work downgrade scikit learn from 0.23 --> 0.22 as below\n",
        "!pip install --upgrade scikit-learn==0.22"
      ],
      "execution_count": null,
      "outputs": [
        {
          "output_type": "stream",
          "text": [
            "Collecting scikit-learn==0.22\n",
            "\u001b[?25l  Downloading https://files.pythonhosted.org/packages/2e/d0/860c4f6a7027e00acff373d9f5327f4ae3ed5872234b3cbdd7bcb52e5eff/scikit_learn-0.22-cp36-cp36m-manylinux1_x86_64.whl (7.0MB)\n",
            "\u001b[K     |████████████████████████████████| 7.0MB 5.4MB/s \n",
            "\u001b[?25hRequirement already satisfied, skipping upgrade: joblib>=0.11 in /usr/local/lib/python3.6/dist-packages (from scikit-learn==0.22) (1.0.0)\n",
            "Requirement already satisfied, skipping upgrade: numpy>=1.11.0 in /usr/local/lib/python3.6/dist-packages (from scikit-learn==0.22) (1.19.5)\n",
            "Requirement already satisfied, skipping upgrade: scipy>=0.17.0 in /usr/local/lib/python3.6/dist-packages (from scikit-learn==0.22) (1.4.1)\n",
            "Installing collected packages: scikit-learn\n",
            "  Found existing installation: scikit-learn 0.22.2.post1\n",
            "    Uninstalling scikit-learn-0.22.2.post1:\n",
            "      Successfully uninstalled scikit-learn-0.22.2.post1\n",
            "Successfully installed scikit-learn-0.22\n"
          ],
          "name": "stdout"
        },
        {
          "output_type": "display_data",
          "data": {
            "application/vnd.colab-display-data+json": {
              "pip_warning": {
                "packages": [
                  "sklearn"
                ]
              }
            }
          },
          "metadata": {
            "tags": []
          }
        }
      ]
    },
    {
      "cell_type": "code",
      "metadata": {
        "colab": {
          "base_uri": "https://localhost:8080/"
        },
        "id": "2BEpQoTWQ8W2",
        "outputId": "719df31c-e68b-4d01-a83e-8fdf693463a5"
      },
      "source": [
        "!pip install pmdarima"
      ],
      "execution_count": null,
      "outputs": [
        {
          "output_type": "stream",
          "text": [
            "Requirement already satisfied: pmdarima in /usr/local/lib/python3.6/dist-packages (1.8.0)\n",
            "Requirement already satisfied: Cython<0.29.18,>=0.29 in /usr/local/lib/python3.6/dist-packages (from pmdarima) (0.29.17)\n",
            "Requirement already satisfied: statsmodels!=0.12.0,>=0.11 in /usr/local/lib/python3.6/dist-packages (from pmdarima) (0.12.1)\n",
            "Requirement already satisfied: scipy>=1.3.2 in /usr/local/lib/python3.6/dist-packages (from pmdarima) (1.4.1)\n",
            "Requirement already satisfied: numpy>=1.17.3 in /usr/local/lib/python3.6/dist-packages (from pmdarima) (1.19.5)\n",
            "Requirement already satisfied: scikit-learn>=0.22 in /usr/local/lib/python3.6/dist-packages (from pmdarima) (0.22)\n",
            "Requirement already satisfied: urllib3 in /usr/local/lib/python3.6/dist-packages (from pmdarima) (1.24.3)\n",
            "Requirement already satisfied: joblib>=0.11 in /usr/local/lib/python3.6/dist-packages (from pmdarima) (1.0.0)\n",
            "Requirement already satisfied: pandas>=0.19 in /usr/local/lib/python3.6/dist-packages (from pmdarima) (1.1.5)\n",
            "Requirement already satisfied: setuptools!=50.0.0,>=38.6.0 in /usr/local/lib/python3.6/dist-packages (from pmdarima) (51.1.1)\n",
            "Requirement already satisfied: patsy>=0.5 in /usr/local/lib/python3.6/dist-packages (from statsmodels!=0.12.0,>=0.11->pmdarima) (0.5.1)\n",
            "Requirement already satisfied: python-dateutil>=2.7.3 in /usr/local/lib/python3.6/dist-packages (from pandas>=0.19->pmdarima) (2.8.1)\n",
            "Requirement already satisfied: pytz>=2017.2 in /usr/local/lib/python3.6/dist-packages (from pandas>=0.19->pmdarima) (2018.9)\n",
            "Requirement already satisfied: six in /usr/local/lib/python3.6/dist-packages (from patsy>=0.5->statsmodels!=0.12.0,>=0.11->pmdarima) (1.15.0)\n"
          ],
          "name": "stdout"
        }
      ]
    },
    {
      "cell_type": "code",
      "metadata": {
        "id": "5u0GamJTP2FC"
      },
      "source": [
        "data = df.sort_index(ascending=True, axis=0)"
      ],
      "execution_count": null,
      "outputs": []
    },
    {
      "cell_type": "code",
      "metadata": {
        "colab": {
          "base_uri": "https://localhost:8080/"
        },
        "id": "0x74NOcpP2FC",
        "outputId": "61b2f609-38d7-472f-8ce2-9537fbf51a7e"
      },
      "source": [
        "data.shape"
      ],
      "execution_count": null,
      "outputs": [
        {
          "output_type": "execute_result",
          "data": {
            "text/plain": [
              "(5267, 7)"
            ]
          },
          "metadata": {
            "tags": []
          },
          "execution_count": 57
        }
      ]
    },
    {
      "cell_type": "code",
      "metadata": {
        "id": "zQ34aZLVP2FC"
      },
      "source": [
        "train_len = round(0.8 * new_data.shape[0])"
      ],
      "execution_count": null,
      "outputs": []
    },
    {
      "cell_type": "code",
      "metadata": {
        "id": "b30ZWIL0P2FD"
      },
      "source": [
        "train = data[:train_len]\n",
        "valid = data[train_len:]\n",
        "\n",
        "training = train['Close']\n",
        "validation = valid['Close']"
      ],
      "execution_count": null,
      "outputs": []
    },
    {
      "cell_type": "code",
      "metadata": {
        "colab": {
          "base_uri": "https://localhost:8080/",
          "height": 235
        },
        "id": "7vyocUYaP2FD",
        "outputId": "fe21e846-d26d-4946-d341-de269a0ba67a"
      },
      "source": [
        "valid.head()"
      ],
      "execution_count": null,
      "outputs": [
        {
          "output_type": "execute_result",
          "data": {
            "text/html": [
              "<div>\n",
              "<style scoped>\n",
              "    .dataframe tbody tr th:only-of-type {\n",
              "        vertical-align: middle;\n",
              "    }\n",
              "\n",
              "    .dataframe tbody tr th {\n",
              "        vertical-align: top;\n",
              "    }\n",
              "\n",
              "    .dataframe thead th {\n",
              "        text-align: right;\n",
              "    }\n",
              "</style>\n",
              "<table border=\"1\" class=\"dataframe\">\n",
              "  <thead>\n",
              "    <tr style=\"text-align: right;\">\n",
              "      <th></th>\n",
              "      <th>Date</th>\n",
              "      <th>Open</th>\n",
              "      <th>High</th>\n",
              "      <th>Low</th>\n",
              "      <th>Close</th>\n",
              "      <th>Adj Close</th>\n",
              "      <th>Volume</th>\n",
              "    </tr>\n",
              "    <tr>\n",
              "      <th>Date</th>\n",
              "      <th></th>\n",
              "      <th></th>\n",
              "      <th></th>\n",
              "      <th></th>\n",
              "      <th></th>\n",
              "      <th></th>\n",
              "      <th></th>\n",
              "    </tr>\n",
              "  </thead>\n",
              "  <tbody>\n",
              "    <tr>\n",
              "      <th>2016-07-18</th>\n",
              "      <td>2016-07-18</td>\n",
              "      <td>538.625000</td>\n",
              "      <td>542.450012</td>\n",
              "      <td>527.575012</td>\n",
              "      <td>540.974976</td>\n",
              "      <td>464.980316</td>\n",
              "      <td>14332824.0</td>\n",
              "    </tr>\n",
              "    <tr>\n",
              "      <th>2016-07-19</th>\n",
              "      <td>2016-07-19</td>\n",
              "      <td>544.299988</td>\n",
              "      <td>545.000000</td>\n",
              "      <td>537.049988</td>\n",
              "      <td>543.474976</td>\n",
              "      <td>467.129120</td>\n",
              "      <td>10404644.0</td>\n",
              "    </tr>\n",
              "    <tr>\n",
              "      <th>2016-07-20</th>\n",
              "      <td>2016-07-20</td>\n",
              "      <td>535.000000</td>\n",
              "      <td>544.950012</td>\n",
              "      <td>535.000000</td>\n",
              "      <td>541.549988</td>\n",
              "      <td>465.474609</td>\n",
              "      <td>9822896.0</td>\n",
              "    </tr>\n",
              "    <tr>\n",
              "      <th>2016-07-21</th>\n",
              "      <td>2016-07-21</td>\n",
              "      <td>539.500000</td>\n",
              "      <td>543.599976</td>\n",
              "      <td>537.799988</td>\n",
              "      <td>539.950012</td>\n",
              "      <td>464.099365</td>\n",
              "      <td>8668002.0</td>\n",
              "    </tr>\n",
              "    <tr>\n",
              "      <th>2016-07-22</th>\n",
              "      <td>2016-07-22</td>\n",
              "      <td>535.000000</td>\n",
              "      <td>539.950012</td>\n",
              "      <td>533.349976</td>\n",
              "      <td>536.224976</td>\n",
              "      <td>460.897522</td>\n",
              "      <td>9386538.0</td>\n",
              "    </tr>\n",
              "  </tbody>\n",
              "</table>\n",
              "</div>"
            ],
            "text/plain": [
              "                 Date        Open  ...   Adj Close      Volume\n",
              "Date                               ...                        \n",
              "2016-07-18 2016-07-18  538.625000  ...  464.980316  14332824.0\n",
              "2016-07-19 2016-07-19  544.299988  ...  467.129120  10404644.0\n",
              "2016-07-20 2016-07-20  535.000000  ...  465.474609   9822896.0\n",
              "2016-07-21 2016-07-21  539.500000  ...  464.099365   8668002.0\n",
              "2016-07-22 2016-07-22  535.000000  ...  460.897522   9386538.0\n",
              "\n",
              "[5 rows x 7 columns]"
            ]
          },
          "metadata": {
            "tags": []
          },
          "execution_count": 60
        }
      ]
    },
    {
      "cell_type": "code",
      "metadata": {
        "colab": {
          "base_uri": "https://localhost:8080/",
          "height": 180
        },
        "id": "92wdRk55SA_V",
        "outputId": "f099751a-50fc-486f-b111-d83d0b8950ec"
      },
      "source": [
        "model = auto_arima()\r\n",
        "model.fit(train)"
      ],
      "execution_count": null,
      "outputs": [
        {
          "output_type": "error",
          "ename": "TypeError",
          "evalue": "ignored",
          "traceback": [
            "\u001b[0;31m---------------------------------------------------------------------------\u001b[0m",
            "\u001b[0;31mTypeError\u001b[0m                                 Traceback (most recent call last)",
            "\u001b[0;32m<ipython-input-61-e679a3e17993>\u001b[0m in \u001b[0;36m<module>\u001b[0;34m()\u001b[0m\n\u001b[0;32m----> 1\u001b[0;31m \u001b[0mmodel\u001b[0m \u001b[0;34m=\u001b[0m \u001b[0mauto_arima\u001b[0m\u001b[0;34m(\u001b[0m\u001b[0;34m)\u001b[0m\u001b[0;34m\u001b[0m\u001b[0;34m\u001b[0m\u001b[0m\n\u001b[0m\u001b[1;32m      2\u001b[0m \u001b[0mmodel\u001b[0m\u001b[0;34m.\u001b[0m\u001b[0mfit\u001b[0m\u001b[0;34m(\u001b[0m\u001b[0mtrain\u001b[0m\u001b[0;34m)\u001b[0m\u001b[0;34m\u001b[0m\u001b[0;34m\u001b[0m\u001b[0m\n",
            "\u001b[0;31mTypeError\u001b[0m: auto_arima() missing 1 required positional argument: 'y'"
          ]
        }
      ]
    },
    {
      "cell_type": "markdown",
      "metadata": {
        "id": "Okbs-nILP2FD"
      },
      "source": [
        "### Prophet"
      ]
    },
    {
      "cell_type": "code",
      "metadata": {
        "id": "C2kExSrzP2FD"
      },
      "source": [
        "!pip install fbprophet"
      ],
      "execution_count": null,
      "outputs": []
    },
    {
      "cell_type": "code",
      "metadata": {
        "id": "SMV8Ky8kP2FE"
      },
      "source": [
        "#importing prophet\n",
        "from fbprophet import Prophet"
      ],
      "execution_count": null,
      "outputs": []
    },
    {
      "cell_type": "code",
      "metadata": {
        "id": "6iHRLW6KP2FE"
      },
      "source": [
        "# Read the file\n",
        "\n",
        "df=pd.read_csv(\"/content/INFY.csv\")"
      ],
      "execution_count": null,
      "outputs": []
    },
    {
      "cell_type": "code",
      "metadata": {
        "id": "QxNEhfbPP2FE"
      },
      "source": [
        "data = df.sort_index(ascending=True, axis=0)"
      ],
      "execution_count": null,
      "outputs": []
    },
    {
      "cell_type": "code",
      "metadata": {
        "id": "8ilDjikXP2FE"
      },
      "source": [
        "#creating dataframe\n",
        "new_data = pd.DataFrame(index=range(0,len(df)),columns=['Date', 'Close'])\n",
        "for i in range(0,len(data)):\n",
        "    new_data['Date'][i] = data['Date'][i]\n",
        "    new_data['Close'][i] = data['Close'][i]"
      ],
      "execution_count": null,
      "outputs": []
    },
    {
      "cell_type": "code",
      "metadata": {
        "id": "bGcrU3E-P2FF"
      },
      "source": [
        "new_data['Date'] = pd.to_datetime(new_data.Date,format='%Y-%m-%d')\n",
        "new_data.index = new_data['Date']"
      ],
      "execution_count": null,
      "outputs": []
    },
    {
      "cell_type": "code",
      "metadata": {
        "id": "-_A92EuoP2FF"
      },
      "source": [
        "#preparing data\n",
        "new_data.rename(columns={'Close': 'y', 'Date': 'ds'}, inplace=True)"
      ],
      "execution_count": null,
      "outputs": []
    },
    {
      "cell_type": "code",
      "metadata": {
        "id": "s8y2s67oP2FF"
      },
      "source": [
        "new_data = new_data.dropna()"
      ],
      "execution_count": null,
      "outputs": []
    },
    {
      "cell_type": "code",
      "metadata": {
        "id": "0TVNljlOP2FF"
      },
      "source": [
        "train_len = round(0.8 * new_data.shape[0])"
      ],
      "execution_count": null,
      "outputs": []
    },
    {
      "cell_type": "code",
      "metadata": {
        "id": "sz-t66JBP2FG"
      },
      "source": [
        "#train and validation\n",
        "train = new_data[:train_len]\n",
        "valid = new_data[train_len:]"
      ],
      "execution_count": null,
      "outputs": []
    },
    {
      "cell_type": "code",
      "metadata": {
        "colab": {
          "base_uri": "https://localhost:8080/",
          "height": 235
        },
        "id": "XXVJDfgVP2FG",
        "outputId": "9445f7cf-a8e6-41a7-9195-376ab63c99b6"
      },
      "source": [
        "valid.head()"
      ],
      "execution_count": null,
      "outputs": [
        {
          "output_type": "execute_result",
          "data": {
            "text/html": [
              "<div>\n",
              "<style scoped>\n",
              "    .dataframe tbody tr th:only-of-type {\n",
              "        vertical-align: middle;\n",
              "    }\n",
              "\n",
              "    .dataframe tbody tr th {\n",
              "        vertical-align: top;\n",
              "    }\n",
              "\n",
              "    .dataframe thead th {\n",
              "        text-align: right;\n",
              "    }\n",
              "</style>\n",
              "<table border=\"1\" class=\"dataframe\">\n",
              "  <thead>\n",
              "    <tr style=\"text-align: right;\">\n",
              "      <th></th>\n",
              "      <th>ds</th>\n",
              "      <th>y</th>\n",
              "    </tr>\n",
              "    <tr>\n",
              "      <th>Date</th>\n",
              "      <th></th>\n",
              "      <th></th>\n",
              "    </tr>\n",
              "  </thead>\n",
              "  <tbody>\n",
              "    <tr>\n",
              "      <th>2016-10-27</th>\n",
              "      <td>2016-10-27</td>\n",
              "      <td>501.75</td>\n",
              "    </tr>\n",
              "    <tr>\n",
              "      <th>2016-10-28</th>\n",
              "      <td>2016-10-28</td>\n",
              "      <td>498.75</td>\n",
              "    </tr>\n",
              "    <tr>\n",
              "      <th>2016-11-01</th>\n",
              "      <td>2016-11-01</td>\n",
              "      <td>494.725</td>\n",
              "    </tr>\n",
              "    <tr>\n",
              "      <th>2016-11-02</th>\n",
              "      <td>2016-11-02</td>\n",
              "      <td>490.525</td>\n",
              "    </tr>\n",
              "    <tr>\n",
              "      <th>2016-11-03</th>\n",
              "      <td>2016-11-03</td>\n",
              "      <td>483.425</td>\n",
              "    </tr>\n",
              "  </tbody>\n",
              "</table>\n",
              "</div>"
            ],
            "text/plain": [
              "                   ds        y\n",
              "Date                          \n",
              "2016-10-27 2016-10-27   501.75\n",
              "2016-10-28 2016-10-28   498.75\n",
              "2016-11-01 2016-11-01  494.725\n",
              "2016-11-02 2016-11-02  490.525\n",
              "2016-11-03 2016-11-03  483.425"
            ]
          },
          "metadata": {
            "tags": []
          },
          "execution_count": 71
        }
      ]
    },
    {
      "cell_type": "code",
      "metadata": {
        "colab": {
          "base_uri": "https://localhost:8080/"
        },
        "id": "RkVTZ1XSP2FG",
        "outputId": "c98e4d86-5478-4808-c74f-2f6183e81dbd"
      },
      "source": [
        "#fit the model\n",
        "model = Prophet()\n",
        "model.fit(train)"
      ],
      "execution_count": null,
      "outputs": [
        {
          "output_type": "stream",
          "text": [
            "INFO:fbprophet:Disabling daily seasonality. Run prophet with daily_seasonality=True to override this.\n"
          ],
          "name": "stderr"
        },
        {
          "output_type": "execute_result",
          "data": {
            "text/plain": [
              "<fbprophet.forecaster.Prophet at 0x7f1073d626d8>"
            ]
          },
          "metadata": {
            "tags": []
          },
          "execution_count": 72
        }
      ]
    },
    {
      "cell_type": "code",
      "metadata": {
        "id": "fenz0hesP2FG"
      },
      "source": [
        "#predictions\n",
        "close_prices = model.make_future_dataframe(periods=len(valid))\n",
        "forecast = model.predict(close_prices)"
      ],
      "execution_count": null,
      "outputs": []
    },
    {
      "cell_type": "code",
      "metadata": {
        "colab": {
          "base_uri": "https://localhost:8080/"
        },
        "id": "cKQCchySP2FH",
        "outputId": "49e5f52a-daa7-4dca-a2ec-a75986a0d40d"
      },
      "source": [
        "#rmse\n",
        "forecast_valid = forecast['yhat'][train_len:]\n",
        "rms=np.sqrt(np.mean(np.power((np.array(valid['y'])-np.array(forecast_valid)),2)))\n",
        "rms"
      ],
      "execution_count": null,
      "outputs": [
        {
          "output_type": "execute_result",
          "data": {
            "text/plain": [
              "143.71637353854598"
            ]
          },
          "metadata": {
            "tags": []
          },
          "execution_count": 74
        }
      ]
    },
    {
      "cell_type": "code",
      "metadata": {
        "colab": {
          "base_uri": "https://localhost:8080/",
          "height": 591
        },
        "id": "uPxKhlEfP2FH",
        "outputId": "fc2fa93e-629f-4455-ef43-ae485398c532"
      },
      "source": [
        "#plot\n",
        "valid['Predictions'] = 0\n",
        "valid['Predictions'] = forecast_valid.values\n",
        "\n",
        "plt.plot(train['y'])\n",
        "plt.plot(valid[['y', 'Predictions']])"
      ],
      "execution_count": null,
      "outputs": [
        {
          "output_type": "stream",
          "text": [
            "/usr/local/lib/python3.6/dist-packages/ipykernel_launcher.py:2: SettingWithCopyWarning:\n",
            "\n",
            "\n",
            "A value is trying to be set on a copy of a slice from a DataFrame.\n",
            "Try using .loc[row_indexer,col_indexer] = value instead\n",
            "\n",
            "See the caveats in the documentation: https://pandas.pydata.org/pandas-docs/stable/user_guide/indexing.html#returning-a-view-versus-a-copy\n",
            "\n",
            "/usr/local/lib/python3.6/dist-packages/ipykernel_launcher.py:3: SettingWithCopyWarning:\n",
            "\n",
            "\n",
            "A value is trying to be set on a copy of a slice from a DataFrame.\n",
            "Try using .loc[row_indexer,col_indexer] = value instead\n",
            "\n",
            "See the caveats in the documentation: https://pandas.pydata.org/pandas-docs/stable/user_guide/indexing.html#returning-a-view-versus-a-copy\n",
            "\n"
          ],
          "name": "stderr"
        },
        {
          "output_type": "execute_result",
          "data": {
            "text/plain": [
              "[<matplotlib.lines.Line2D at 0x7f1071b825c0>,\n",
              " <matplotlib.lines.Line2D at 0x7f1071b82b00>]"
            ]
          },
          "metadata": {
            "tags": []
          },
          "execution_count": 75
        },
        {
          "output_type": "display_data",
          "data": {
            "image/png": "[encoded data removed]",
            "text/plain": [
              "<Figure size 432x288 with 1 Axes>"
            ]
          },
          "metadata": {
            "tags": [],
            "needs_background": "light"
          }
        }
      ]
    },
    {
      "cell_type": "code",
      "metadata": {
        "id": "Dz5oPIwbP2FI"
      },
      "source": [
        ""
      ],
      "execution_count": null,
      "outputs": []
    },
    {
      "cell_type": "markdown",
      "metadata": {
        "id": "0utlXqzJP2FJ"
      },
      "source": [
        "### LSTM"
      ]
    },
    {
      "cell_type": "code",
      "metadata": {
        "id": "zrxeioavP2FJ"
      },
      "source": [
        "#importing required libraries\n",
        "#from sklearn.preprocessing import MinMaxScaler\n",
        "from keras.models import Sequential\n",
        "from keras.layers import Dense, Dropout, LSTM"
      ],
      "execution_count": null,
      "outputs": []
    },
    {
      "cell_type": "code",
      "metadata": {
        "id": "OJZhNiB-P2FJ"
      },
      "source": [
        "#creating dataframe\n",
        "data = df.sort_index(ascending=True, axis=0)\n",
        "new_data = pd.DataFrame(index=range(0,len(df)),columns=['Date', 'Close'])\n",
        "for i in range(0,len(data)):\n",
        "    new_data['Date'][i] = data['Date'][i]\n",
        "    new_data['Close'][i] = data['Close'][i]"
      ],
      "execution_count": null,
      "outputs": []
    },
    {
      "cell_type": "code",
      "metadata": {
        "id": "wdqrH7AqP2FL"
      },
      "source": [
        ""
      ],
      "execution_count": null,
      "outputs": []
    },
    {
      "cell_type": "code",
      "metadata": {
        "id": "nL1qEZroUGgI"
      },
      "source": [
        "from google.colab import drive\n",
        "drive.mount('/content/drive')"
      ],
      "execution_count": null,
      "outputs": []
    },
    {
      "cell_type": "markdown",
      "metadata": {
        "id": "QzSOrTfcP2FR"
      },
      "source": [
        "#Inference\n",
        "#Linear regression is a simple technique and quite easy to interpret, but there are a few obvious disadvantages. \n",
        "#One problem in using regression algorithms is that the model overfits to the date and month column.\n",
        "#Instead of taking into account the previous values from the point of prediction,\n",
        "#the model will consider the value from the same date a month ago, or the same date/month a year ago.\n"
      ]
    }
  ]
}